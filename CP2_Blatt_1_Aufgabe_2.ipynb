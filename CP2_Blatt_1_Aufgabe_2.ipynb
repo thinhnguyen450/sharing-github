{
 "cells": [
  {
   "cell_type": "code",
   "execution_count": 40,
   "id": "c2385ae9",
   "metadata": {},
   "outputs": [],
   "source": [
    "import numpy as np\n",
    "import random as rnd\n",
    "import math as m"
   ]
  },
  {
   "cell_type": "code",
   "execution_count": 41,
   "id": "a599d40b",
   "metadata": {},
   "outputs": [],
   "source": [
    "def LCG(r_0,a,b,m):\n",
    "    r = ((a*r_0+b)%m)\n",
    "    return r"
   ]
  },
  {
   "cell_type": "code",
   "execution_count": 42,
   "id": "539a21ad",
   "metadata": {},
   "outputs": [],
   "source": [
    "current = [1]\n",
    "\n",
    "def RANDU():\n",
    "    r = LCG(current[0],2**16+3,0,2**31)\n",
    "    current[0] = r\n",
    "    r\n",
    "    return r"
   ]
  },
  {
   "cell_type": "code",
   "execution_count": 43,
   "id": "6949f542",
   "metadata": {},
   "outputs": [],
   "source": [
    "#Bestimmung von Pi\n",
    "\n",
    "#Zufallszahlen\n",
    "count1 = 0 #random() 2D\n",
    "count2 = 0 #Randu    2D\n",
    "o = []\n",
    "p = []\n",
    "o.clear()\n",
    "p.clear()\n",
    "#Anzahl der Zufallszahlen\n",
    "total = 10000"
   ]
  },
  {
   "cell_type": "code",
   "execution_count": 44,
   "id": "0d180844",
   "metadata": {},
   "outputs": [],
   "source": [
    "# Für jede Dimension von 1 - 15 wird nun gezählt wie viele Punkte\n",
    "# im Kreis/in der Kugel landen\n",
    "\n",
    "for a in range(1,17):\n",
    "    count1 = 0 #random()\n",
    "    for b in range(0, total):\n",
    "        #zufällige a-dimensionale koordinaten in [0,1]\n",
    "        d = 0\n",
    "        for c in range(1,a):\n",
    "            x = rnd.random()**2\n",
    "            d = d + x\n",
    "            #counter erhöhen wenn sich der Punkt im Kreis befindet\n",
    "        if m.sqrt(d) < 1.0:\n",
    "            count1 +=1\n",
    "    o.append(count1)\n",
    "        \n",
    "#Das Gleiche mit RANDU\n",
    "for i in range(1,17):\n",
    "    count2 = 0 #Randu\n",
    "    for j in range(0, total):\n",
    "        #zufällige i-dimensionale koordinaten in [0,1]\n",
    "        h = 0\n",
    "        for k in range(1,i):\n",
    "            x = (RANDU()/((2**31)-1))**2\n",
    "            h = h + x\n",
    "        #counter erhöhen wenn sich der Punkt im Kreis befindet\n",
    "        if m.sqrt(h) < 1.0:\n",
    "            count2 +=1\n",
    "    p.append(count2)"
   ]
  },
  {
   "cell_type": "code",
   "execution_count": 45,
   "id": "77bad6c1",
   "metadata": {},
   "outputs": [
    {
     "name": "stdout",
     "output_type": "stream",
     "text": [
      "Dimension =  0 : 10000   10000\n",
      "Dimension =  1 : 10000   10000\n",
      "Dimension =  2 : 7910   7793\n",
      "Dimension =  3 : 5245   5255\n",
      "Dimension =  4 : 3169   2994\n",
      "Dimension =  5 : 1718   1641\n",
      "Dimension =  6 : 770   814\n",
      "Dimension =  7 : 375   380\n",
      "Dimension =  8 : 149   170\n",
      "Dimension =  9 : 80   71\n",
      "Dimension =  10 : 33   27\n",
      "Dimension =  11 : 8   7\n",
      "Dimension =  12 : 1   1\n",
      "Dimension =  13 : 2   1\n",
      "Dimension =  14 : 0   1\n",
      "Dimension =  15 : 0   0\n"
     ]
    }
   ],
   "source": [
    "# So viele Punkte befinden sich jeweils für beide PRNGs innerhalb der \"Kugel\"\n",
    "\n",
    "for e in range (0,16):\n",
    "    print(\"Dimension = \", e,\":\", o[e],\" \", p[e])"
   ]
  },
  {
   "cell_type": "code",
   "execution_count": 46,
   "id": "d4ea3af4",
   "metadata": {},
   "outputs": [
    {
     "name": "stdout",
     "output_type": "stream",
     "text": [
      "Dimension =  0 : 1.0    1.0\n",
      "Dimension =  1 : 2.0    2.0\n",
      "Dimension =  2 : 3.164    3.1172\n",
      "Dimension =  3 : 4.196    4.204\n",
      "Dimension =  4 : 5.0704    4.7904\n",
      "Dimension =  5 : 5.4976    5.2512\n",
      "Dimension =  6 : 4.928    5.2096\n",
      "Dimension =  7 : 4.8    4.864\n",
      "Dimension =  8 : 3.8144    4.352\n",
      "Dimension =  9 : 4.096    3.6352\n",
      "Dimension =  10 : 3.3792    2.7648\n",
      "Dimension =  11 : 1.6384    1.4336\n",
      "Dimension =  12 : 0.4096    0.4096\n",
      "Dimension =  13 : 1.6384    0.8192\n",
      "Dimension =  14 : 0.0    1.6384\n",
      "Dimension =  15 : 0.0    0.0\n"
     ]
    }
   ],
   "source": [
    "# Volumenbestimmung durch Monte-Carlo\n",
    "\n",
    "for f in range (0,16):\n",
    "    V1 = (o[f]/total) * (2**(f))\n",
    "    V2 = (p[f]/total) * (2**(f))\n",
    "    print(\"Dimension = \", f,\":\", V1,\"  \", V2)"
   ]
  },
  {
   "cell_type": "code",
   "execution_count": 52,
   "id": "b2336af5",
   "metadata": {},
   "outputs": [
    {
     "name": "stdout",
     "output_type": "stream",
     "text": [
      "Mersenne(2D): 3.164 RANDU(2D): 3.1172\n",
      "Mersenne(3D): 3.147 RANDU(3D): 3.1529999999999996\n"
     ]
    }
   ],
   "source": [
    "# Berechnung von Pi aus dem Volumen bei f=2 und f=3\n",
    "# f gibt hier die Dimension an\n",
    "\n",
    "#2D\n",
    "\n",
    "pi1 = (o[2]/total) * (2**(2))\n",
    "pi2 = (p[2]/total) * (2**(2))   # da wir r = 1 betrachten\n",
    "\n",
    "#3D\n",
    "\n",
    "pi3 = (o[3]/total) * (2**(3))* (3/4)\n",
    "pi4 = (p[3]/total) * (2**(3))* (3/4)\n",
    "\n",
    "print(\"Mersenne(2D):\",pi1,\"RANDU(2D):\", pi2)\n",
    "print(\"Mersenne(3D):\", pi3,\"RANDU(3D):\", pi4)\n"
   ]
  },
  {
   "cell_type": "code",
   "execution_count": null,
   "id": "113c0aee",
   "metadata": {},
   "outputs": [],
   "source": []
  }
 ],
 "metadata": {
  "kernelspec": {
   "display_name": "Python 3",
   "language": "python",
   "name": "python3"
  },
  "language_info": {
   "codemirror_mode": {
    "name": "ipython",
    "version": 3
   },
   "file_extension": ".py",
   "mimetype": "text/x-python",
   "name": "python",
   "nbconvert_exporter": "python",
   "pygments_lexer": "ipython3",
   "version": "3.9.4"
  }
 },
 "nbformat": 4,
 "nbformat_minor": 5
}
