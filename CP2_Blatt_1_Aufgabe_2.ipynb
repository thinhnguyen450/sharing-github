{
 "cells": [
  {
   "cell_type": "code",
   "execution_count": 38,
   "id": "c2385ae9",
   "metadata": {},
   "outputs": [],
   "source": [
    "import numpy as np\n",
    "import random as rnd\n",
    "import math as m"
   ]
  },
  {
   "cell_type": "code",
   "execution_count": 39,
   "id": "a599d40b",
   "metadata": {},
   "outputs": [],
   "source": [
    "def LCG(r_0,a,b,m):\n",
    "    r = ((a*r_0+b)%m)\n",
    "    return r"
   ]
  },
  {
   "cell_type": "code",
   "execution_count": 40,
   "id": "539a21ad",
   "metadata": {},
   "outputs": [],
   "source": [
    "current = [1]\n",
    "\n",
    "def RANDU():\n",
    "    r = LCG(current[0],2**16+3,0,2**31)\n",
    "    current[0] = r\n",
    "    r\n",
    "    return r"
   ]
  },
  {
   "cell_type": "code",
   "execution_count": 41,
   "id": "6949f542",
   "metadata": {},
   "outputs": [],
   "source": [
    "#Bestimmung von Pi\n",
    "\n",
    "#Zufallszahlen\n",
    "count1 = 0 #random() 2D\n",
    "count2 = 0 #Randu    2D\n",
    "o = []\n",
    "p = []\n",
    "o.clear()\n",
    "p.clear()\n",
    "#Anzahl der Zufallszahlen\n",
    "total = 100000"
   ]
  },
  {
   "cell_type": "code",
   "execution_count": 42,
   "id": "0d180844",
   "metadata": {},
   "outputs": [],
   "source": [
    "# Für jede Dimension von 1 - 15 wird nun gezählt wie viele Punkte\n",
    "# im Kreis/in der Kugel landen\n",
    "\n",
    "for a in range(1,17):\n",
    "    count1 = 0 #random()\n",
    "    for b in range(0, total):\n",
    "        #zufällige a-dimensionale koordinaten in [0,1]\n",
    "        d = 0\n",
    "        for c in range(1,a):\n",
    "            x = rnd.random()**2\n",
    "            d = d + x\n",
    "            #counter erhöhen wenn sich der Punkt im Kreis befindet\n",
    "        if m.sqrt(d) < 1.0:\n",
    "            count1 +=1\n",
    "    o.append(count1)\n",
    "        \n",
    "#Das Gleiche mit RANDU\n",
    "for i in range(1,17):\n",
    "    count2 = 0 #Randu\n",
    "    for j in range(0, total):\n",
    "        #zufällige i-dimensionale koordinaten in [0,1]\n",
    "        h = 0\n",
    "        for k in range(1,i):\n",
    "            x = (RANDU()/((2**31)-1))**2\n",
    "            h = h + x\n",
    "        #counter erhöhen wenn sich der Punkt im Kreis befindet\n",
    "        if m.sqrt(h) < 1.0:\n",
    "            count2 +=1\n",
    "    p.append(count2)"
   ]
  },
  {
   "cell_type": "code",
   "execution_count": 47,
   "id": "77bad6c1",
   "metadata": {},
   "outputs": [
    {
     "name": "stdout",
     "output_type": "stream",
     "text": [
      "Dimension =  1 : 100000   100000\n",
      "Dimension =  2 : 78505   78508\n",
      "Dimension =  3 : 52414   52641\n",
      "Dimension =  4 : 30937   30782\n",
      "Dimension =  5 : 16442   16433\n",
      "Dimension =  6 : 8188   8011\n",
      "Dimension =  7 : 3753   3628\n",
      "Dimension =  8 : 1595   1575\n",
      "Dimension =  9 : 669   639\n",
      "Dimension =  10 : 260   253\n",
      "Dimension =  11 : 76   104\n",
      "Dimension =  12 : 28   29\n",
      "Dimension =  13 : 13   11\n",
      "Dimension =  14 : 6   2\n",
      "Dimension =  15 : 1   1\n"
     ]
    }
   ],
   "source": [
    "# So viele Punkte befinden sich jeweils für beide PRNGs innerhalb der \"Kugel\"\n",
    "# erste Spalte --> random()\n",
    "# zweite Spalte --> RANDU\n",
    "\n",
    "for e in range (1,16):\n",
    "    print(\"Dimension = \", e,\":\", o[e],\" \", p[e])"
   ]
  },
  {
   "cell_type": "code",
   "execution_count": 48,
   "id": "d4ea3af4",
   "metadata": {},
   "outputs": [
    {
     "name": "stdout",
     "output_type": "stream",
     "text": [
      "Dimension =  1 : 2.0    2.0\n",
      "Dimension =  2 : 3.1402    3.14032\n",
      "Dimension =  3 : 4.19312    4.21128\n",
      "Dimension =  4 : 4.94992    4.92512\n",
      "Dimension =  5 : 5.26144    5.25856\n",
      "Dimension =  6 : 5.24032    5.12704\n",
      "Dimension =  7 : 4.80384    4.64384\n",
      "Dimension =  8 : 4.0832    4.032\n",
      "Dimension =  9 : 3.42528    3.27168\n",
      "Dimension =  10 : 2.6624    2.59072\n",
      "Dimension =  11 : 1.55648    2.12992\n",
      "Dimension =  12 : 1.14688    1.18784\n",
      "Dimension =  13 : 1.06496    0.90112\n",
      "Dimension =  14 : 0.98304    0.32768\n",
      "Dimension =  15 : 0.32768    0.32768\n"
     ]
    }
   ],
   "source": [
    "# Volumenbestimmung mithilfe der Gesamtpunktzahl\n",
    "# erste Spalte --> random()\n",
    "# zweite Spalte --> RANDU\n",
    "\n",
    "for f in range (1,16):\n",
    "    V1 = (o[f]/total) * (2**(f))\n",
    "    V2 = (p[f]/total) * (2**(f))\n",
    "    print(\"Dimension = \", f,\":\", V1,\"  \", V2)"
   ]
  },
  {
   "cell_type": "code",
   "execution_count": 49,
   "id": "b2336af5",
   "metadata": {},
   "outputs": [
    {
     "name": "stdout",
     "output_type": "stream",
     "text": [
      "Mersenne(2D): 3.1402 RANDU(2D): 3.14032\n",
      "Mersenne(3D): 3.1448400000000003 RANDU(3D): 3.1584600000000003\n"
     ]
    }
   ],
   "source": [
    "# Berechnung von Pi aus dem Volumen bei f=2 und f=3 (f entspricht d aus der Aufgabenstellung)\n",
    "# f gibt hier die Dimension an\n",
    "\n",
    "#2D\n",
    "\n",
    "pi1 = (o[2]/total) * (2**(2))\n",
    "pi2 = (p[2]/total) * (2**(2))   # da wir r = 1 betrachten\n",
    "\n",
    "#3D\n",
    "\n",
    "pi3 = (o[3]/total) * (2**(3))* (3/4)\n",
    "pi4 = (p[3]/total) * (2**(3))* (3/4)\n",
    "\n",
    "print(\"Mersenne(2D):\",pi1,\"RANDU(2D):\", pi2)\n",
    "print(\"Mersenne(3D):\", pi3,\"RANDU(3D):\", pi4)"
   ]
  },
  {
   "cell_type": "code",
   "execution_count": null,
   "id": "0799c08c",
   "metadata": {},
   "outputs": [],
   "source": [
    "# Bei höheren Dimensionen landen immer weniger Punkte innerhalb der Kugel.\n",
    "# Dadurch wird die Volumenbestimmung für hohe Dimensionen ungenauer.\n",
    "# Beim direkten Vergleich von random() und RANDU() kann man keinen großen Unterschied\n",
    "# bei den Ergebnissen erkennen."
   ]
  }
 ],
 "metadata": {
  "kernelspec": {
   "display_name": "Python 3",
   "language": "python",
   "name": "python3"
  },
  "language_info": {
   "codemirror_mode": {
    "name": "ipython",
    "version": 3
   },
   "file_extension": ".py",
   "mimetype": "text/x-python",
   "name": "python",
   "nbconvert_exporter": "python",
   "pygments_lexer": "ipython3",
   "version": "3.9.4"
  }
 },
 "nbformat": 4,
 "nbformat_minor": 5
}
