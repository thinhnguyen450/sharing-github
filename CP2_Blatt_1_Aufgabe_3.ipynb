{
 "cells": [
  {
   "cell_type": "code",
   "execution_count": 38,
   "id": "24a7c4e2",
   "metadata": {},
   "outputs": [],
   "source": [
    "import numpy as np\n",
    "import random as rnd\n",
    "import math as m\n",
    "import matplotlib.pyplot as plt"
   ]
  },
  {
   "cell_type": "code",
   "execution_count": 39,
   "id": "2e34af35",
   "metadata": {},
   "outputs": [],
   "source": [
    "def random():\n",
    "    u = rnd.uniform(-1, 1)\n",
    "    v = rnd.uniform(-1, 1)\n",
    "    array = [u,v]\n",
    "    return array"
   ]
  },
  {
   "cell_type": "code",
   "execution_count": 40,
   "id": "7b8426c5",
   "metadata": {},
   "outputs": [],
   "source": [
    "def potenzsumme():\n",
    "    r = random()[0]**2 + random()[1]**2\n",
    "    while r > 1 or r == 0:\n",
    "        r = random()[0]**2 + random()[1]**2\n",
    "    return r"
   ]
  },
  {
   "cell_type": "code",
   "execution_count": 41,
   "id": "ed60b048",
   "metadata": {},
   "outputs": [],
   "source": [
    "def wurzel():\n",
    "    w = m.sqrt((-2*np.log(potenzsumme()))/potenzsumme())\n",
    "    return w"
   ]
  },
  {
   "cell_type": "code",
   "execution_count": 42,
   "id": "c85812ff",
   "metadata": {},
   "outputs": [],
   "source": [
    "def polarmethode():\n",
    "    random()\n",
    "    potenzsumme()\n",
    "    wurzel()\n",
    "    x_1 = random()[0]*wurzel()\n",
    "    x_2 = random()[1]*wurzel()\n",
    "    array = [x_1,x_2]\n",
    "    return array"
   ]
  },
  {
   "cell_type": "code",
   "execution_count": 43,
   "id": "b5c2697a",
   "metadata": {},
   "outputs": [
    {
     "name": "stdout",
     "output_type": "stream",
     "text": [
      "[-0.09367522627112185, -0.3196182800035046]\n"
     ]
    }
   ],
   "source": [
    "print(polarmethode())"
   ]
  },
  {
   "cell_type": "code",
   "execution_count": 54,
   "id": "0d8ef96b",
   "metadata": {},
   "outputs": [],
   "source": [
    "N = 1000\n",
    "gauss = np.zeros((N,2))\n",
    "for i in range(N):\n",
    "    for j in range(2):\n",
    "        gauss[i,:] = polarmethode()[1]"
   ]
  },
  {
   "cell_type": "code",
   "execution_count": 55,
   "id": "d88d7f49",
   "metadata": {},
   "outputs": [
    {
     "data": {
      "text/plain": [
       "(array([[1., 0., 0., ..., 0., 0., 1.],\n",
       "        [1., 0., 0., ..., 0., 0., 1.]]),\n",
       " array([-14.3088589 , -14.24775538, -14.18665187, ...,  46.67244961,\n",
       "         46.73355313,  46.79465664]),\n",
       " <a list of 2 BarContainer objects>)"
      ]
     },
     "execution_count": 55,
     "metadata": {},
     "output_type": "execute_result"
    },
    {
     "data": {
      "image/png": "[encoded data removed]",
      "text/plain": [
       "<Figure size 432x288 with 1 Axes>"
      ]
     },
     "metadata": {
      "needs_background": "light"
     },
     "output_type": "display_data"
    }
   ],
   "source": [
    "plt.hist(gauss,1000)"
   ]
  },
  {
   "cell_type": "code",
   "execution_count": null,
   "id": "536e7936",
   "metadata": {},
   "outputs": [],
   "source": []
  }
 ],
 "metadata": {
  "kernelspec": {
   "display_name": "Python 3",
   "language": "python",
   "name": "python3"
  },
  "language_info": {
   "codemirror_mode": {
    "name": "ipython",
    "version": 3
   },
   "file_extension": ".py",
   "mimetype": "text/x-python",
   "name": "python",
   "nbconvert_exporter": "python",
   "pygments_lexer": "ipython3",
   "version": "3.9.4"
  }
 },
 "nbformat": 4,
 "nbformat_minor": 5
}
