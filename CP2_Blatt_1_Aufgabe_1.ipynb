{
 "cells": [
  {
   "cell_type": "code",
   "execution_count": 1,
   "id": "190c20e0",
   "metadata": {},
   "outputs": [],
   "source": [
    "import numpy as np\n",
    "import random as rnd\n",
    "import matplotlib.pyplot as plt"
   ]
  },
  {
   "cell_type": "code",
   "execution_count": 2,
   "id": "2fd1a198",
   "metadata": {},
   "outputs": [],
   "source": [
    "def LCG(r_0,a,b,m):\n",
    "    r = (a*r_0+b)%m\n",
    "    return r"
   ]
  },
  {
   "cell_type": "code",
   "execution_count": 3,
   "id": "430c1065",
   "metadata": {},
   "outputs": [],
   "source": [
    "current = [1]\n",
    "\n",
    "def RANDU():\n",
    "    r = LCG(current[0],2**16+3,0,2**31)\n",
    "    current[0] = r\n",
    "    return r"
   ]
  },
  {
   "cell_type": "code",
   "execution_count": 4,
   "id": "e45bb031",
   "metadata": {},
   "outputs": [
    {
     "data": {
      "text/plain": [
       "65539"
      ]
     },
     "execution_count": 4,
     "metadata": {},
     "output_type": "execute_result"
    }
   ],
   "source": [
    "RANDU()"
   ]
  },
  {
   "cell_type": "code",
   "execution_count": 5,
   "id": "ba8e0199",
   "metadata": {},
   "outputs": [
    {
     "data": {
      "text/plain": [
       "0.08621085524203476"
      ]
     },
     "execution_count": 5,
     "metadata": {},
     "output_type": "execute_result"
    }
   ],
   "source": [
    "rnd.random()"
   ]
  },
  {
   "cell_type": "code",
   "execution_count": 6,
   "id": "d5c87f45",
   "metadata": {},
   "outputs": [],
   "source": [
    "N = 10000\n",
    "\n",
    "RANDU_numbers = np.zeros((N,3))\n",
    "RND_numbers = np.zeros((N,3))\n",
    "\n",
    "for i in range(N):\n",
    "    for j in range(3):\n",
    "        RANDU_numbers[i,j] = RANDU()/(2**31)\n",
    "        RND_numbers[i,j] = rnd.random()\n",
    "        \n",
    "#erstellt erst 2 3x3 Matrizen, die mit Nullen gefüllt sind\n",
    "#füllt sie mit zahlen, die mit RANDU() erstellt wurden\n",
    "#das wird 10000 wiederholt"
   ]
  },
  {
   "cell_type": "code",
   "execution_count": 7,
   "id": "7d393821",
   "metadata": {},
   "outputs": [],
   "source": [
    "with open('RANDU.csv','w') as file:\n",
    "    for row in range(len(RANDU_numbers)):\n",
    "        file.write(str(RANDU_numbers[row])+'\\n')"
   ]
  },
  {
   "cell_type": "code",
   "execution_count": 8,
   "id": "6304be8c",
   "metadata": {},
   "outputs": [],
   "source": [
    "with open('RND.csv','w') as file:\n",
    "    for row in range(len(RND_numbers)):\n",
    "        file.write(str(RND_numbers[row])+'\\n')"
   ]
  },
  {
   "cell_type": "code",
   "execution_count": 9,
   "id": "265370d6",
   "metadata": {},
   "outputs": [],
   "source": [
    "import matplotlib.pyplot as plt\n",
    "from mpl_toolkits.mplot3d import Axes3D"
   ]
  },
  {
   "cell_type": "code",
   "execution_count": 12,
   "id": "9c95a21d",
   "metadata": {},
   "outputs": [
    {
     "name": "stdout",
     "output_type": "stream",
     "text": [
      "Using matplotlib backend: TkAgg\n"
     ]
    },
    {
     "name": "stderr",
     "output_type": "stream",
     "text": [
      "<ipython-input-12-6b3e2ef28609>:3: MatplotlibDeprecationWarning: Axes3D(fig) adding itself to the figure is deprecated since 3.4. Pass the keyword argument auto_add_to_figure=False and use fig.add_axes(ax) to suppress this warning. The default value of auto_add_to_figure will change to False in mpl3.5 and True values will no longer work in 3.6.  This is consistent with other Axes classes.\n",
      "  ax = Axes3D(fig)\n"
     ]
    },
    {
     "data": {
      "text/plain": [
       "<mpl_toolkits.mplot3d.art3d.Path3DCollection at 0x1a94d2ea700>"
      ]
     },
     "execution_count": 12,
     "metadata": {},
     "output_type": "execute_result"
    }
   ],
   "source": [
    "%matplotlib\n",
    "fig = plt.figure()\n",
    "ax = Axes3D(fig)\n",
    "\n",
    "ax.scatter(RANDU_numbers[:,0],RANDU_numbers[:,1],RANDU_numbers[:,2])"
   ]
  },
  {
   "cell_type": "code",
   "execution_count": 11,
   "id": "9733ff7b",
   "metadata": {},
   "outputs": [
    {
     "name": "stdout",
     "output_type": "stream",
     "text": [
      "Using matplotlib backend: TkAgg\n"
     ]
    },
    {
     "name": "stderr",
     "output_type": "stream",
     "text": [
      "<ipython-input-11-4aa0fc389bb3>:3: MatplotlibDeprecationWarning: Axes3D(fig) adding itself to the figure is deprecated since 3.4. Pass the keyword argument auto_add_to_figure=False and use fig.add_axes(ax) to suppress this warning. The default value of auto_add_to_figure will change to False in mpl3.5 and True values will no longer work in 3.6.  This is consistent with other Axes classes.\n",
      "  ax = Axes3D(fig)\n"
     ]
    },
    {
     "data": {
      "text/plain": [
       "<mpl_toolkits.mplot3d.art3d.Path3DCollection at 0x1a94d1ac4f0>"
      ]
     },
     "execution_count": 11,
     "metadata": {},
     "output_type": "execute_result"
    }
   ],
   "source": [
    "%matplotlib\n",
    "fig = plt.figure()\n",
    "ax = Axes3D(fig)\n",
    "\n",
    "ax.scatter(RND_numbers[:,0],RND_numbers[:,1],RND_numbers[:,2])"
   ]
  },
  {
   "cell_type": "code",
   "execution_count": null,
   "id": "4409056d",
   "metadata": {},
   "outputs": [],
   "source": []
  }
 ],
 "metadata": {
  "kernelspec": {
   "display_name": "Python 3",
   "language": "python",
   "name": "python3"
  },
  "language_info": {
   "codemirror_mode": {
    "name": "ipython",
    "version": 3
   },
   "file_extension": ".py",
   "mimetype": "text/x-python",
   "name": "python",
   "nbconvert_exporter": "python",
   "pygments_lexer": "ipython3",
   "version": "3.9.4"
  }
 },
 "nbformat": 4,
 "nbformat_minor": 5
}
