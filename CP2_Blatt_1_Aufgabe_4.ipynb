{
 "cells": [
  {
   "cell_type": "code",
   "execution_count": 7,
   "id": "a08a1a7d",
   "metadata": {},
   "outputs": [],
   "source": [
    "import numpy as np\n",
    "import random as rnd\n",
    "import math as m\n",
    "import matplotlib.pyplot as plt"
   ]
  },
  {
   "cell_type": "code",
   "execution_count": 8,
   "id": "75e369ca",
   "metadata": {},
   "outputs": [],
   "source": [
    "def random():\n",
    "    u = rnd.uniform(-1, 1)\n",
    "    v = rnd.uniform(-1, 1)\n",
    "    array = [u,v]\n",
    "    return array"
   ]
  },
  {
   "cell_type": "code",
   "execution_count": 29,
   "id": "445587bc",
   "metadata": {},
   "outputs": [],
   "source": [
    "def potenzsumme():\n",
    "    r = random()[0]**2 + random()[1]**2\n",
    "    while r > 1 or r == 0:\n",
    "        r = random()[0]**2 + random()[1]**2\n",
    "    return r"
   ]
  },
  {
   "cell_type": "code",
   "execution_count": 30,
   "id": "3c481c0f",
   "metadata": {},
   "outputs": [],
   "source": [
    "def wurzel():\n",
    "    w = m.sqrt((-2*np.log(potenzsumme()))/potenzsumme())\n",
    "    return w"
   ]
  },
  {
   "cell_type": "code",
   "execution_count": 31,
   "id": "943bed91",
   "metadata": {},
   "outputs": [],
   "source": [
    "def polarmethode():\n",
    "    random()\n",
    "    potenzsumme()\n",
    "    wurzel()\n",
    "    x_1 = random()[0]*wurzel()\n",
    "    x_2 = random()[1]*wurzel()\n",
    "    array = [x_1,x_2]\n",
    "    return array"
   ]
  },
  {
   "cell_type": "code",
   "execution_count": 32,
   "id": "a4c2320a",
   "metadata": {},
   "outputs": [
    {
     "name": "stdout",
     "output_type": "stream",
     "text": [
      "[-3.0304904935762496, 2.9140971860652747]\n"
     ]
    }
   ],
   "source": [
    "print(polarmethode())"
   ]
  },
  {
   "cell_type": "code",
   "execution_count": 34,
   "id": "1a1e96e5",
   "metadata": {},
   "outputs": [],
   "source": [
    "def create_bins(lower_bound, width, quantity):\n",
    "    bins = []\n",
    "    for low in range(lower_bound, \n",
    "                     lower_bound + quantity * width + 1, width):\n",
    "        bins.append((low, low+width))\n",
    "    return bins"
   ]
  },
  {
   "cell_type": "code",
   "execution_count": 35,
   "id": "6c042b1a",
   "metadata": {},
   "outputs": [
    {
     "name": "stdout",
     "output_type": "stream",
     "text": [
      "[(-5, -4), (-4, -3), (-3, -2), (-2, -1), (-1, 0), (0, 1), (1, 2), (2, 3), (3, 4), (4, 5), (5, 6)]\n"
     ]
    }
   ],
   "source": [
    "bins = create_bins(lower_bound=-5,\n",
    "                   width=(1),\n",
    "                   quantity=10)\n",
    "print(bins)"
   ]
  },
  {
   "cell_type": "code",
   "execution_count": null,
   "id": "73a191e6",
   "metadata": {},
   "outputs": [],
   "source": [
    "for i in range(0, 5000000):\n",
    "    r = polarmethode()\n",
    "    "
   ]
  }
 ],
 "metadata": {
  "kernelspec": {
   "display_name": "Python 3",
   "language": "python",
   "name": "python3"
  },
  "language_info": {
   "codemirror_mode": {
    "name": "ipython",
    "version": 3
   },
   "file_extension": ".py",
   "mimetype": "text/x-python",
   "name": "python",
   "nbconvert_exporter": "python",
   "pygments_lexer": "ipython3",
   "version": "3.9.4"
  }
 },
 "nbformat": 4,
 "nbformat_minor": 5
}
